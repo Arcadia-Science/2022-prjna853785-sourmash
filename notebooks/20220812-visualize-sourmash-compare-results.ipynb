{
 "cells": [
  {
   "cell_type": "markdown",
   "id": "e97c0398",
   "metadata": {},
   "source": [
    "# Visualizing output of `sourmash compare`\n",
    "\n",
    "This notebook reads in the CSV file produced by `sourmash compare` and produces two visualizations, an MDS (ordination) plot and a clustered heat map.\n",
    "`Sourmash compare` outputs an all-by-all similarity matrix for a group of samples.\n",
    "When the samples were sketched with abundance tracking as was done here (e.g. the abundance of each k-mer was recorded), the similarity matrix encodes the cosine similarity."
   ]
  },
  {
   "cell_type": "code",
   "execution_count": 1,
   "id": "cecbc9e6",
   "metadata": {},
   "outputs": [],
   "source": [
    "# the default directory is the \"notebooks\" folder; set it one level up.\n",
    "setwd(\"..\")"
   ]
  },
  {
   "cell_type": "code",
   "execution_count": 2,
   "id": "72919306",
   "metadata": {},
   "outputs": [],
   "source": [
    "# adjust plot size rendered inline\n",
    "options(repr.plot.width = 4, repr.plot.height = 3, repr.plot.res = 300)"
   ]
  },
  {
   "cell_type": "code",
   "execution_count": 3,
   "id": "f09b87cd",
   "metadata": {},
   "outputs": [
    {
     "name": "stderr",
     "output_type": "stream",
     "text": [
      "\n",
      "Attaching package: ‘dplyr’\n",
      "\n",
      "\n",
      "The following objects are masked from ‘package:stats’:\n",
      "\n",
      "    filter, lag\n",
      "\n",
      "\n",
      "The following objects are masked from ‘package:base’:\n",
      "\n",
      "    intersect, setdiff, setequal, union\n",
      "\n",
      "\n"
     ]
    }
   ],
   "source": [
    "library(readr)\n",
    "library(dplyr)\n",
    "library(tibble)\n",
    "library(ggplot2)\n",
    "library(ggrepel)"
   ]
  },
  {
   "cell_type": "code",
   "execution_count": 4,
   "id": "61aedf57",
   "metadata": {},
   "outputs": [],
   "source": [
    "compare <- read_csv(\"outputs/sourmash_compare/comp_k31.csv\", show_col_types = F) %>%\n",
    "  mutate(sample = colnames(.)) %>% # make column names into a column\n",
    "  column_to_rownames(\"sample\") %>% # set rownames to column names\n",
    "  as.matrix()                      # convert to matrix for dist functions"
   ]
  },
  {
   "cell_type": "code",
   "execution_count": 7,
   "id": "e83000ae",
   "metadata": {},
   "outputs": [
    {
     "data": {
      "text/html": [
       "<table class=\"dataframe\">\n",
       "<caption>A matrix: 1 × 1 of type dbl</caption>\n",
       "<thead>\n",
       "\t<tr><th></th><th scope=col>wh</th></tr>\n",
       "</thead>\n",
       "<tbody>\n",
       "\t<tr><th scope=row>wh</th><td>1</td></tr>\n",
       "</tbody>\n",
       "</table>\n"
      ],
      "text/latex": [
       "A matrix: 1 × 1 of type dbl\n",
       "\\begin{tabular}{r|l}\n",
       "  & wh\\\\\n",
       "\\hline\n",
       "\twh & 1\\\\\n",
       "\\end{tabular}\n"
      ],
      "text/markdown": [
       "\n",
       "A matrix: 1 × 1 of type dbl\n",
       "\n",
       "| <!--/--> | wh |\n",
       "|---|---|\n",
       "| wh | 1 |\n",
       "\n"
      ],
      "text/plain": [
       "   wh\n",
       "wh 1 "
      ]
     },
     "metadata": {},
     "output_type": "display_data"
    }
   ],
   "source": [
    "compare"
   ]
  }
 ],
 "metadata": {
  "kernelspec": {
   "display_name": "R",
   "language": "R",
   "name": "ir"
  },
  "language_info": {
   "codemirror_mode": "r",
   "file_extension": ".r",
   "mimetype": "text/x-r-source",
   "name": "R",
   "pygments_lexer": "r",
   "version": "4.1.3"
  }
 },
 "nbformat": 4,
 "nbformat_minor": 5
}
