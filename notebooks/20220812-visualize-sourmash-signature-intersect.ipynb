{
 "cells": [
  {
   "cell_type": "markdown",
   "id": "84035268",
   "metadata": {},
   "source": [
    "# Shared k-mer content between samples\n",
    "\n",
    "This notebook produces an upset plot that depicts the number of k-mers shared between sets of samples.\n",
    "The absolute size of the intersection is the number of shared hashes (k-mers) in scaled FracMinHash sketches (e.g. 1/1000th of the total k-mers in the sample); see the README in this repository for more information about sketches, k-mers, and scaled values.\n",
    "\n",
    "An upset plot is an alternative to a venn diagram; the bottom half of the plot shows which samples have shared content while the top half of the plot shows the size of the intersection between the specified samples.\n",
    "\n",
    "This plot is good for visualizing the _exact_ sequencing content overlap between samples.\n",
    "If there is a lot of variation in the samples, it might be difficult to interpret the plot as there may be many intersections.\n",
    "Still, it provides a nice complement to the `sourmash compare` results and plots as it gives more information about the nature of the intersections between samples.\n",
    "\n",
    "Note this notebook will only work when there are at least two samples."
   ]
  },
  {
   "cell_type": "code",
   "execution_count": 1,
   "id": "a2ddd577",
   "metadata": {},
   "outputs": [],
   "source": [
    "# the default directory is the \"notebooks\" folder; set it one level up.\n",
    "setwd(\"..\")"
   ]
  },
  {
   "cell_type": "code",
   "execution_count": 2,
   "id": "ddcff8f1",
   "metadata": {},
   "outputs": [],
   "source": [
    "# adjust plot size rendered inline\n",
    "options(repr.plot.width = 12, repr.plot.height = 5, repr.plot.res = 300)"
   ]
  },
  {
   "cell_type": "code",
   "execution_count": 4,
   "id": "1dd35298",
   "metadata": {},
   "outputs": [],
   "source": [
    "library(readr)\n",
    "library(dplyr)\n",
    "library(purrr)\n",
    "library(ggplot2)\n",
    "library(ComplexUpset)\n",
    "source(\"scripts/utils.R\")"
   ]
  },
  {
   "cell_type": "code",
   "execution_count": 5,
   "id": "a6bceb3d",
   "metadata": {},
   "outputs": [],
   "source": [
    "files <- Sys.glob(\"outputs/sourmash_sketch_csv/wh*k31*csv\") # list files that contain k31 and end with .csv\n",
    "sketches <- list()\n",
    "for(i in 1:length(files)){\n",
    "    sketch <- read_csv(files[i], show_col_types = F) # read in the hashes\n",
    "    sketch_name <- colnames(sketch)   # record the signature name which is currently stored as the column name\n",
    "    sketches[[i]] <- sketch[[1]]      # record the hash values in a list\n",
    "    names(sketches)[i] <- sketch_name # set the name of the list index to the signature name\n",
    "}"
   ]
  },
  {
   "cell_type": "code",
   "execution_count": 9,
   "id": "28a2b05b",
   "metadata": {},
   "outputs": [],
   "source": [
    "upset_list <- UpSetR::fromList(sketches)"
   ]
  },
  {
   "cell_type": "code",
   "execution_count": 10,
   "id": "05cfa042",
   "metadata": {},
   "outputs": [
    {
     "ename": "ERROR",
     "evalue": "Error in upset_data(data, intersect, mode = mode, encode_sets = encode_sets, : Needs at least two indicator variables\n",
     "output_type": "error",
     "traceback": [
      "Error in upset_data(data, intersect, mode = mode, encode_sets = encode_sets, : Needs at least two indicator variables\nTraceback:\n",
      "1. upset(upset_list, intersect = names(sketches), set_sizes = F, \n .     base_annotations = list(`# scaled k-mers` = intersection_size(text = list(vjust = 0.4, \n .         hjust = 0.05, angle = 90), text_colors = c(on_background = \"black\", \n .         on_bar = \"black\"), mapping = aes(fill = \"bars_color\")) + \n .         scale_fill_manual(values = c(bars_color = \"lightgrey\"), \n .             guide = \"none\")))",
      "2. upset_data(data, intersect, mode = mode, encode_sets = encode_sets, \n .     ...)",
      "3. stop(\"Needs at least two indicator variables\")"
     ]
    }
   ],
   "source": [
    "# plot the upset plot\n",
    "upset(upset_list, intersect = names(sketches), set_sizes = F, \n",
    "      base_annotations=list(\n",
    "          '# scaled k-mers'=intersection_size(text=list(vjust=0.4, hjust=.05, angle=90), \n",
    "                                                          text_colors=c(on_background='black', on_bar='black'),\n",
    "                                                          mapping=aes(fill='bars_color')) + \n",
    "           scale_fill_manual(values=c('bars_color'='lightgrey'), guide='none'))\n",
    "     )"
   ]
  },
  {
   "cell_type": "code",
   "execution_count": null,
   "id": "9a2c9175",
   "metadata": {},
   "outputs": [],
   "source": []
  }
 ],
 "metadata": {
  "kernelspec": {
   "display_name": "R",
   "language": "R",
   "name": "ir"
  },
  "language_info": {
   "codemirror_mode": "r",
   "file_extension": ".r",
   "mimetype": "text/x-r-source",
   "name": "R",
   "pygments_lexer": "r",
   "version": "4.1.3"
  }
 },
 "nbformat": 4,
 "nbformat_minor": 5
}
